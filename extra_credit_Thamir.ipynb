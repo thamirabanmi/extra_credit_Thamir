{
 "cells": [
  {
   "cell_type": "markdown",
   "id": "324275ae-bc2b-4103-a1d0-bb795eeab6f9",
   "metadata": {},
   "source": [
    "## Thamer Extra Credit Assignment"
   ]
  },
  {
   "cell_type": "code",
   "execution_count": null,
   "id": "fa54b5a9-4b20-443d-9059-6b1b46a79a6d",
   "metadata": {},
   "outputs": [],
   "source": [
    "# package\n",
    "import pandas"
   ]
  },
  {
   "cell_type": "code",
   "execution_count": null,
   "id": "5e5f0aee-a373-49ca-ae44-1794028bf0d6",
   "metadata": {},
   "outputs": [],
   "source": [
    "# defining and using variables\n",
    "x=1\n",
    "y=5\n",
    "z=x+1\n",
    "\n",
    "list_1 = [1,2,3]\n",
    "list_2 = ['a','b','c']\n",
    "list_3 = list_1 + list_2\n",
    "list_3[2:5]"
   ]
  },
  {
   "cell_type": "code",
   "execution_count": 6,
   "id": "221c8ea0-f4fe-4f46-bd2a-b4cdf34350a7",
   "metadata": {},
   "outputs": [
    {
     "data": {
      "text/plain": [
       "[6, 5, -7]"
      ]
     },
     "execution_count": 6,
     "metadata": {},
     "output_type": "execute_result"
    }
   ],
   "source": [
    "# In one line write a list and assign it to variable named \"list_4\" that has \n",
    "# for element 0: x+y\n",
    "# for element 1: x*y\n",
    "# for element 2: 5*x+2*y-22\n",
    "\n",
    "#<todo>\n",
    "list_4 = [x+y , x*y , 5*x+2*y-22]\n",
    "list_4"
   ]
  },
  {
   "cell_type": "code",
   "execution_count": 4,
   "id": "42b69625-d4e7-4748-9e5d-5420264a92db",
   "metadata": {},
   "outputs": [
    {
     "data": {
      "text/plain": [
       "'half of x is 50.5; half of y is 15.5'"
      ]
     },
     "execution_count": 4,
     "metadata": {},
     "output_type": "execute_result"
    }
   ],
   "source": [
    "#defining functions:\n",
    "\n",
    "def jonathans_function(x, y):\n",
    "    temp_1 = x/2\n",
    "    temp_2 = y/2\n",
    "    my_string = f\"half of x is {temp_1}; half of y is {temp_2}\"\n",
    "    return my_string\n",
    "\n",
    "my_favorite_number = 31\n",
    "age_i_want_to_live_to = 101\n",
    "\n",
    "jonathans_function(age_i_want_to_live_to, my_favorite_number)"
   ]
  },
  {
   "cell_type": "code",
   "execution_count": 29,
   "id": "9fcbddaf-6f28-4de9-9958-ff132afd9abb",
   "metadata": {},
   "outputs": [
    {
     "data": {
      "text/plain": [
       "4"
      ]
     },
     "execution_count": 29,
     "metadata": {},
     "output_type": "execute_result"
    }
   ],
   "source": [
    "#Define a function that adds all the values of list_4 above, using parameters\n",
    "\n",
    "#todo name>(param_1=#todo,param_2=#todo,param_3=#todo):\n",
    "def jonathans_function(lis):\n",
    "    return sum(lis)\n",
    "jonathans_function(list_4)"
   ]
  },
  {
   "cell_type": "code",
   "execution_count": 31,
   "id": "3e02d3a1-58a1-48cd-9c17-cc90bddbc4ca",
   "metadata": {},
   "outputs": [
    {
     "data": {
      "text/plain": [
       "6"
      ]
     },
     "execution_count": 31,
     "metadata": {},
     "output_type": "execute_result"
    }
   ],
   "source": [
    "#define a function that multiplies three numbers together:\n",
    "\n",
    "#todo\n",
    "def thamir_function(one,two,three):\n",
    "    return one*two*three\n",
    "thamir_function(1,2,3)"
   ]
  },
  {
   "cell_type": "code",
   "execution_count": 33,
   "id": "32e7fdb1-5a99-4d5b-966d-9b3e82bd3b12",
   "metadata": {},
   "outputs": [
    {
     "data": {
      "text/html": [
       "<div>\n",
       "<style scoped>\n",
       "    .dataframe tbody tr th:only-of-type {\n",
       "        vertical-align: middle;\n",
       "    }\n",
       "\n",
       "    .dataframe tbody tr th {\n",
       "        vertical-align: top;\n",
       "    }\n",
       "\n",
       "    .dataframe thead th {\n",
       "        text-align: right;\n",
       "    }\n",
       "</style>\n",
       "<table border=\"1\" class=\"dataframe\">\n",
       "  <thead>\n",
       "    <tr style=\"text-align: right;\">\n",
       "      <th></th>\n",
       "      <th>a</th>\n",
       "      <th>b</th>\n",
       "      <th>c</th>\n",
       "    </tr>\n",
       "  </thead>\n",
       "  <tbody>\n",
       "    <tr>\n",
       "      <th>1</th>\n",
       "      <td>1</td>\n",
       "      <td>2</td>\n",
       "      <td>3</td>\n",
       "    </tr>\n",
       "    <tr>\n",
       "      <th>2</th>\n",
       "      <td>4</td>\n",
       "      <td>5</td>\n",
       "      <td>6</td>\n",
       "    </tr>\n",
       "    <tr>\n",
       "      <th>3</th>\n",
       "      <td>7</td>\n",
       "      <td>8</td>\n",
       "      <td>9</td>\n",
       "    </tr>\n",
       "  </tbody>\n",
       "</table>\n",
       "</div>"
      ],
      "text/plain": [
       "   a  b  c\n",
       "1  1  2  3\n",
       "2  4  5  6\n",
       "3  7  8  9"
      ]
     },
     "execution_count": 33,
     "metadata": {},
     "output_type": "execute_result"
    }
   ],
   "source": [
    "df = pandas.DataFrame(data=[[1,2,3],[4,5,6],[7,8,9]],\n",
    "    columns=['a','b','c'],\n",
    "    index=[1,2,3]\n",
    ")\n",
    "\n",
    "df"
   ]
  },
  {
   "cell_type": "code",
   "execution_count": 35,
   "id": "ed2da0c2-0032-461b-b271-eaf593aab746",
   "metadata": {},
   "outputs": [],
   "source": [
    "df = pandas.DataFrame({'c1':[1,2,3],'c2':[4,5,6],'c3':[7,8,9]})\n"
   ]
  },
  {
   "cell_type": "code",
   "execution_count": 36,
   "id": "cdc643e9-48cd-4ba5-a9f3-3c0c684d0d3e",
   "metadata": {},
   "outputs": [
    {
     "data": {
      "text/plain": [
       "pandas.core.frame.DataFrame"
      ]
     },
     "execution_count": 36,
     "metadata": {},
     "output_type": "execute_result"
    }
   ],
   "source": [
    "type(df)"
   ]
  },
  {
   "cell_type": "code",
   "execution_count": null,
   "id": "89cb733f-e4ad-415d-a793-310539a3a03f",
   "metadata": {},
   "outputs": [],
   "source": []
  },
  {
   "cell_type": "code",
   "execution_count": 37,
   "id": "5d47d60a-9121-4ba2-a3e3-47a0667bf75d",
   "metadata": {},
   "outputs": [
    {
     "data": {
      "text/plain": [
       "array([0.51497089, 0.93167964, 0.53604869, 0.96055859, 0.75332506,\n",
       "       0.5824646 , 0.79275723, 0.50043234, 0.64117619, 0.89605754,\n",
       "       0.54717708, 0.67801473, 0.73633966, 0.56100892, 0.93902635,\n",
       "       0.96269705, 0.57462304, 0.67634083, 0.73777329, 0.54941546,\n",
       "       0.69991678, 0.70561732, 0.83797951, 0.7421626 , 0.79993066,\n",
       "       0.56747206, 0.77560846, 0.84782998, 0.52176971, 0.92564864])"
      ]
     },
     "execution_count": 37,
     "metadata": {},
     "output_type": "execute_result"
    }
   ],
   "source": [
    "import numpy\n",
    "\n",
    "random_grades = numpy.random.uniform(low=0.5,high=1,size=30)\n",
    "random_grades"
   ]
  },
  {
   "cell_type": "code",
   "execution_count": 42,
   "id": "fcab95ed-67dc-45fc-b771-1a5ad1c822bb",
   "metadata": {
    "tags": []
   },
   "outputs": [
    {
     "name": "stdout",
     "output_type": "stream",
     "text": [
      "grade 0 is 0.51\n",
      "grade 1 is 0.93\n",
      "grade 2 is 0.54\n",
      "grade 3 is 0.96\n",
      "grade 4 is 0.75\n",
      "grade 5 is 0.58\n",
      "grade 6 is 0.79\n",
      "grade 7 is 0.5\n",
      "grade 8 is 0.64\n",
      "grade 9 is 0.9\n",
      "grade 10 is 0.55\n",
      "grade 11 is 0.68\n",
      "grade 12 is 0.74\n",
      "grade 13 is 0.56\n",
      "grade 14 is 0.94\n",
      "grade 15 is 0.96\n",
      "grade 16 is 0.57\n",
      "grade 17 is 0.68\n",
      "grade 18 is 0.74\n",
      "grade 19 is 0.55\n",
      "grade 20 is 0.7\n",
      "grade 21 is 0.71\n",
      "grade 22 is 0.84\n",
      "grade 23 is 0.74\n",
      "grade 24 is 0.8\n",
      "grade 25 is 0.57\n",
      "grade 26 is 0.78\n",
      "grade 27 is 0.85\n",
      "grade 28 is 0.52\n",
      "grade 29 is 0.93\n"
     ]
    }
   ],
   "source": [
    "for i in range(len(random_grades)):\n",
    "    print(f\"grade {i} is {random_grades[i].round(2)}\")"
   ]
  },
  {
   "cell_type": "code",
   "execution_count": 49,
   "id": "718f12cc-f5c4-4212-81ac-2adb718d80b5",
   "metadata": {},
   "outputs": [
    {
     "data": {
      "text/html": [
       "<div>\n",
       "<style scoped>\n",
       "    .dataframe tbody tr th:only-of-type {\n",
       "        vertical-align: middle;\n",
       "    }\n",
       "\n",
       "    .dataframe tbody tr th {\n",
       "        vertical-align: top;\n",
       "    }\n",
       "\n",
       "    .dataframe thead th {\n",
       "        text-align: right;\n",
       "    }\n",
       "</style>\n",
       "<table border=\"1\" class=\"dataframe\">\n",
       "  <thead>\n",
       "    <tr style=\"text-align: right;\">\n",
       "      <th></th>\n",
       "      <th>Name</th>\n",
       "      <th>Age</th>\n",
       "    </tr>\n",
       "  </thead>\n",
       "  <tbody>\n",
       "    <tr>\n",
       "      <th>0</th>\n",
       "      <td>student1</td>\n",
       "      <td>63</td>\n",
       "    </tr>\n",
       "    <tr>\n",
       "      <th>1</th>\n",
       "      <td>student2</td>\n",
       "      <td>99</td>\n",
       "    </tr>\n",
       "    <tr>\n",
       "      <th>2</th>\n",
       "      <td>student3</td>\n",
       "      <td>53</td>\n",
       "    </tr>\n",
       "    <tr>\n",
       "      <th>3</th>\n",
       "      <td>student4</td>\n",
       "      <td>82</td>\n",
       "    </tr>\n",
       "    <tr>\n",
       "      <th>4</th>\n",
       "      <td>student5</td>\n",
       "      <td>70</td>\n",
       "    </tr>\n",
       "    <tr>\n",
       "      <th>5</th>\n",
       "      <td>student6</td>\n",
       "      <td>61</td>\n",
       "    </tr>\n",
       "    <tr>\n",
       "      <th>6</th>\n",
       "      <td>student7</td>\n",
       "      <td>77</td>\n",
       "    </tr>\n",
       "    <tr>\n",
       "      <th>7</th>\n",
       "      <td>student8</td>\n",
       "      <td>58</td>\n",
       "    </tr>\n",
       "    <tr>\n",
       "      <th>8</th>\n",
       "      <td>student9</td>\n",
       "      <td>68</td>\n",
       "    </tr>\n",
       "    <tr>\n",
       "      <th>9</th>\n",
       "      <td>student10</td>\n",
       "      <td>63</td>\n",
       "    </tr>\n",
       "    <tr>\n",
       "      <th>10</th>\n",
       "      <td>student11</td>\n",
       "      <td>82</td>\n",
       "    </tr>\n",
       "    <tr>\n",
       "      <th>11</th>\n",
       "      <td>student12</td>\n",
       "      <td>59</td>\n",
       "    </tr>\n",
       "    <tr>\n",
       "      <th>12</th>\n",
       "      <td>student13</td>\n",
       "      <td>97</td>\n",
       "    </tr>\n",
       "    <tr>\n",
       "      <th>13</th>\n",
       "      <td>student14</td>\n",
       "      <td>68</td>\n",
       "    </tr>\n",
       "    <tr>\n",
       "      <th>14</th>\n",
       "      <td>student15</td>\n",
       "      <td>56</td>\n",
       "    </tr>\n",
       "    <tr>\n",
       "      <th>15</th>\n",
       "      <td>student16</td>\n",
       "      <td>82</td>\n",
       "    </tr>\n",
       "    <tr>\n",
       "      <th>16</th>\n",
       "      <td>student17</td>\n",
       "      <td>56</td>\n",
       "    </tr>\n",
       "    <tr>\n",
       "      <th>17</th>\n",
       "      <td>student18</td>\n",
       "      <td>96</td>\n",
       "    </tr>\n",
       "    <tr>\n",
       "      <th>18</th>\n",
       "      <td>student19</td>\n",
       "      <td>57</td>\n",
       "    </tr>\n",
       "    <tr>\n",
       "      <th>19</th>\n",
       "      <td>student20</td>\n",
       "      <td>60</td>\n",
       "    </tr>\n",
       "    <tr>\n",
       "      <th>20</th>\n",
       "      <td>student21</td>\n",
       "      <td>62</td>\n",
       "    </tr>\n",
       "    <tr>\n",
       "      <th>21</th>\n",
       "      <td>student22</td>\n",
       "      <td>82</td>\n",
       "    </tr>\n",
       "    <tr>\n",
       "      <th>22</th>\n",
       "      <td>student23</td>\n",
       "      <td>63</td>\n",
       "    </tr>\n",
       "    <tr>\n",
       "      <th>23</th>\n",
       "      <td>student24</td>\n",
       "      <td>81</td>\n",
       "    </tr>\n",
       "    <tr>\n",
       "      <th>24</th>\n",
       "      <td>student25</td>\n",
       "      <td>86</td>\n",
       "    </tr>\n",
       "    <tr>\n",
       "      <th>25</th>\n",
       "      <td>student26</td>\n",
       "      <td>66</td>\n",
       "    </tr>\n",
       "    <tr>\n",
       "      <th>26</th>\n",
       "      <td>student27</td>\n",
       "      <td>63</td>\n",
       "    </tr>\n",
       "    <tr>\n",
       "      <th>27</th>\n",
       "      <td>student28</td>\n",
       "      <td>73</td>\n",
       "    </tr>\n",
       "    <tr>\n",
       "      <th>28</th>\n",
       "      <td>student29</td>\n",
       "      <td>52</td>\n",
       "    </tr>\n",
       "    <tr>\n",
       "      <th>29</th>\n",
       "      <td>student30</td>\n",
       "      <td>61</td>\n",
       "    </tr>\n",
       "  </tbody>\n",
       "</table>\n",
       "</div>"
      ],
      "text/plain": [
       "         Name Age\n",
       "0    student1  63\n",
       "1    student2  99\n",
       "2    student3  53\n",
       "3    student4  82\n",
       "4    student5  70\n",
       "5    student6  61\n",
       "6    student7  77\n",
       "7    student8  58\n",
       "8    student9  68\n",
       "9   student10  63\n",
       "10  student11  82\n",
       "11  student12  59\n",
       "12  student13  97\n",
       "13  student14  68\n",
       "14  student15  56\n",
       "15  student16  82\n",
       "16  student17  56\n",
       "17  student18  96\n",
       "18  student19  57\n",
       "19  student20  60\n",
       "20  student21  62\n",
       "21  student22  82\n",
       "22  student23  63\n",
       "23  student24  81\n",
       "24  student25  86\n",
       "25  student26  66\n",
       "26  student27  63\n",
       "27  student28  73\n",
       "28  student29  52\n",
       "29  student30  61"
      ]
     },
     "execution_count": 49,
     "metadata": {},
     "output_type": "execute_result"
    }
   ],
   "source": [
    "# Create a dataframe for 30 students with grades between 50(D) and 100(A+)\n",
    "\n",
    "# eg:         Grade\n",
    "# student_1:   77\n",
    "# student_2:   55\n",
    "# student_3:   99\n",
    "#...\n",
    "# student_30:   77\n",
    "import pandas as pd\n",
    "from random import randint\n",
    "  \n",
    "data = []\n",
    "\n",
    "for student in range(1,31):\n",
    "\n",
    "    data.append([\"student\"+str(student),str(randint(50, 100))]) \n",
    "\n",
    "    \n",
    "\n",
    "df = pd.DataFrame(data, columns = ['Name', 'Age']) \n",
    "  \n",
    "df\n",
    "\n",
    "\n"
   ]
  }
 ],
 "metadata": {
  "kernelspec": {
   "display_name": "Python 3",
   "language": "python",
   "name": "python3"
  },
  "language_info": {
   "codemirror_mode": {
    "name": "ipython",
    "version": 3
   },
   "file_extension": ".py",
   "mimetype": "text/x-python",
   "name": "python",
   "nbconvert_exporter": "python",
   "pygments_lexer": "ipython3",
   "version": "3.8.8"
  }
 },
 "nbformat": 4,
 "nbformat_minor": 5
}
